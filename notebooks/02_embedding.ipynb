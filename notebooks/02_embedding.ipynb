{
 "cells": [
  {
   "cell_type": "markdown",
   "id": "81cab9ef",
   "metadata": {},
   "source": [
    "# Task 2: Text Chunking, Embedding, and Vector Store Indexing"
   ]
  },
  {
   "cell_type": "code",
   "execution_count": 3,
   "id": "f0ab6689",
   "metadata": {},
   "outputs": [],
   "source": [
    "import sys\n",
    "import os\n",
    "import pandas as pd\n",
    "from glob import glob"
   ]
  },
  {
   "cell_type": "code",
   "execution_count": 4,
   "id": "a76f0e08",
   "metadata": {},
   "outputs": [],
   "source": [
    "from pathlib import Path\n",
    "from importlib import reload\n",
    "# add the project root to the path\n",
    "project_root = Path(\"..\").resolve()\n",
    "if str(project_root) not in sys.path:\n",
    "    sys.path.insert(0, str(project_root))"
   ]
  },
  {
   "cell_type": "markdown",
   "id": "8a3c185e",
   "metadata": {},
   "source": [
    "### Load the dataset"
   ]
  },
  {
   "cell_type": "code",
   "execution_count": 5,
   "id": "9e55170c",
   "metadata": {},
   "outputs": [
    {
     "data": {
      "text/plain": [
       "<module 'src.data_loader' from '/home/chalasimon/Documents/10academy/week 6/challenge/CrediTrust-RAG-Chatbot/src/data_loader.py'>"
      ]
     },
     "execution_count": 5,
     "metadata": {},
     "output_type": "execute_result"
    }
   ],
   "source": [
    "# import the module to load the data into dataframes\n",
    "from src.data_loader import DataLoader\n",
    "import src.data_loader\n",
    "reload(src.data_loader)"
   ]
  },
  {
   "cell_type": "code",
   "execution_count": 6,
   "id": "58d84db9",
   "metadata": {},
   "outputs": [
    {
     "name": "stderr",
     "output_type": "stream",
     "text": [
      "/home/chalasimon/Documents/10academy/week 6/challenge/CrediTrust-RAG-Chatbot/src/data_loader.py:20: DtypeWarning: Columns (16) have mixed types. Specify dtype option on import or set low_memory=False.\n",
      "  data = pd.read_csv(self.file_path)\n"
     ]
    },
    {
     "name": "stdout",
     "output_type": "stream",
     "text": [
      "Loaded 9609797 cleaned complaints\n"
     ]
    }
   ],
   "source": [
    "# Load the dataset\n",
    "data_loader = DataLoader('../data/processed/filtered_complaints.csv')\n",
    "df = data_loader.load_data()\n",
    "print(f\"Loaded {len(df)} cleaned complaints\")"
   ]
  },
  {
   "cell_type": "code",
   "execution_count": 7,
   "id": "f536b4e1",
   "metadata": {},
   "outputs": [
    {
     "data": {
      "application/vnd.microsoft.datawrangler.viewer.v0+json": {
       "columns": [
        {
         "name": "index",
         "rawType": "int64",
         "type": "integer"
        },
        {
         "name": "Date received",
         "rawType": "object",
         "type": "string"
        },
        {
         "name": "Product",
         "rawType": "object",
         "type": "string"
        },
        {
         "name": "Sub-product",
         "rawType": "object",
         "type": "string"
        },
        {
         "name": "Issue",
         "rawType": "object",
         "type": "string"
        },
        {
         "name": "Sub-issue",
         "rawType": "object",
         "type": "string"
        },
        {
         "name": "Consumer complaint narrative",
         "rawType": "object",
         "type": "unknown"
        },
        {
         "name": "Company public response",
         "rawType": "object",
         "type": "unknown"
        },
        {
         "name": "Company",
         "rawType": "object",
         "type": "string"
        },
        {
         "name": "State",
         "rawType": "object",
         "type": "string"
        },
        {
         "name": "ZIP code",
         "rawType": "object",
         "type": "string"
        },
        {
         "name": "Tags",
         "rawType": "object",
         "type": "unknown"
        },
        {
         "name": "Consumer consent provided?",
         "rawType": "object",
         "type": "unknown"
        },
        {
         "name": "Submitted via",
         "rawType": "object",
         "type": "string"
        },
        {
         "name": "Date sent to company",
         "rawType": "object",
         "type": "string"
        },
        {
         "name": "Company response to consumer",
         "rawType": "object",
         "type": "string"
        },
        {
         "name": "Timely response?",
         "rawType": "object",
         "type": "string"
        },
        {
         "name": "Consumer disputed?",
         "rawType": "object",
         "type": "unknown"
        },
        {
         "name": "Complaint ID",
         "rawType": "int64",
         "type": "integer"
        },
        {
         "name": "narrative_length",
         "rawType": "int64",
         "type": "integer"
        }
       ],
       "ref": "389c2987-312e-48df-94de-3fdb058b792c",
       "rows": [
        [
         "0",
         "2025-06-20",
         "Credit reporting or other personal consumer reports",
         "Credit reporting",
         "Incorrect information on your report",
         "Information belongs to someone else",
         null,
         null,
         "Experian Information Solutions Inc.",
         "FL",
         "32092",
         null,
         null,
         "Web",
         "2025-06-20",
         "In progress",
         "Yes",
         null,
         "14195687",
         "0"
        ],
        [
         "1",
         "2025-06-20",
         "Debt collection",
         "Telecommunications debt",
         "Attempts to collect debt not owed",
         "Debt is not yours",
         null,
         "Company can't verify or dispute the facts in the complaint",
         "Eastern Account Systems of Connecticut, Inc.",
         "FL",
         "342XX",
         null,
         null,
         "Web",
         "2025-06-20",
         "Closed with explanation",
         "Yes",
         null,
         "14195688",
         "0"
        ],
        [
         "2",
         "2025-06-20",
         "Credit reporting or other personal consumer reports",
         "Credit reporting",
         "Improper use of your report",
         "Reporting company used your report improperly",
         null,
         null,
         "TRANSUNION INTERMEDIATE HOLDINGS, INC.",
         "AZ",
         "85225",
         null,
         null,
         "Web",
         "2025-06-20",
         "In progress",
         "Yes",
         null,
         "14195689",
         "0"
        ],
        [
         "3",
         "2025-06-20",
         "Credit reporting or other personal consumer reports",
         "Credit reporting",
         "Improper use of your report",
         "Reporting company used your report improperly",
         null,
         null,
         "Experian Information Solutions Inc.",
         "AZ",
         "85225",
         null,
         null,
         "Web",
         "2025-06-20",
         "In progress",
         "Yes",
         null,
         "14195690",
         "0"
        ],
        [
         "4",
         "2025-06-20",
         "Credit reporting or other personal consumer reports",
         "Credit reporting",
         "Incorrect information on your report",
         "Account status incorrect",
         null,
         null,
         "Experian Information Solutions Inc.",
         "IL",
         "60628",
         null,
         null,
         "Web",
         "2025-06-20",
         "In progress",
         "Yes",
         null,
         "14195692",
         "0"
        ]
       ],
       "shape": {
        "columns": 19,
        "rows": 5
       }
      },
      "text/html": [
       "<div>\n",
       "<style scoped>\n",
       "    .dataframe tbody tr th:only-of-type {\n",
       "        vertical-align: middle;\n",
       "    }\n",
       "\n",
       "    .dataframe tbody tr th {\n",
       "        vertical-align: top;\n",
       "    }\n",
       "\n",
       "    .dataframe thead th {\n",
       "        text-align: right;\n",
       "    }\n",
       "</style>\n",
       "<table border=\"1\" class=\"dataframe\">\n",
       "  <thead>\n",
       "    <tr style=\"text-align: right;\">\n",
       "      <th></th>\n",
       "      <th>Date received</th>\n",
       "      <th>Product</th>\n",
       "      <th>Sub-product</th>\n",
       "      <th>Issue</th>\n",
       "      <th>Sub-issue</th>\n",
       "      <th>Consumer complaint narrative</th>\n",
       "      <th>Company public response</th>\n",
       "      <th>Company</th>\n",
       "      <th>State</th>\n",
       "      <th>ZIP code</th>\n",
       "      <th>Tags</th>\n",
       "      <th>Consumer consent provided?</th>\n",
       "      <th>Submitted via</th>\n",
       "      <th>Date sent to company</th>\n",
       "      <th>Company response to consumer</th>\n",
       "      <th>Timely response?</th>\n",
       "      <th>Consumer disputed?</th>\n",
       "      <th>Complaint ID</th>\n",
       "      <th>narrative_length</th>\n",
       "    </tr>\n",
       "  </thead>\n",
       "  <tbody>\n",
       "    <tr>\n",
       "      <th>0</th>\n",
       "      <td>2025-06-20</td>\n",
       "      <td>Credit reporting or other personal consumer re...</td>\n",
       "      <td>Credit reporting</td>\n",
       "      <td>Incorrect information on your report</td>\n",
       "      <td>Information belongs to someone else</td>\n",
       "      <td>NaN</td>\n",
       "      <td>NaN</td>\n",
       "      <td>Experian Information Solutions Inc.</td>\n",
       "      <td>FL</td>\n",
       "      <td>32092</td>\n",
       "      <td>NaN</td>\n",
       "      <td>NaN</td>\n",
       "      <td>Web</td>\n",
       "      <td>2025-06-20</td>\n",
       "      <td>In progress</td>\n",
       "      <td>Yes</td>\n",
       "      <td>NaN</td>\n",
       "      <td>14195687</td>\n",
       "      <td>0</td>\n",
       "    </tr>\n",
       "    <tr>\n",
       "      <th>1</th>\n",
       "      <td>2025-06-20</td>\n",
       "      <td>Debt collection</td>\n",
       "      <td>Telecommunications debt</td>\n",
       "      <td>Attempts to collect debt not owed</td>\n",
       "      <td>Debt is not yours</td>\n",
       "      <td>NaN</td>\n",
       "      <td>Company can't verify or dispute the facts in t...</td>\n",
       "      <td>Eastern Account Systems of Connecticut, Inc.</td>\n",
       "      <td>FL</td>\n",
       "      <td>342XX</td>\n",
       "      <td>NaN</td>\n",
       "      <td>NaN</td>\n",
       "      <td>Web</td>\n",
       "      <td>2025-06-20</td>\n",
       "      <td>Closed with explanation</td>\n",
       "      <td>Yes</td>\n",
       "      <td>NaN</td>\n",
       "      <td>14195688</td>\n",
       "      <td>0</td>\n",
       "    </tr>\n",
       "    <tr>\n",
       "      <th>2</th>\n",
       "      <td>2025-06-20</td>\n",
       "      <td>Credit reporting or other personal consumer re...</td>\n",
       "      <td>Credit reporting</td>\n",
       "      <td>Improper use of your report</td>\n",
       "      <td>Reporting company used your report improperly</td>\n",
       "      <td>NaN</td>\n",
       "      <td>NaN</td>\n",
       "      <td>TRANSUNION INTERMEDIATE HOLDINGS, INC.</td>\n",
       "      <td>AZ</td>\n",
       "      <td>85225</td>\n",
       "      <td>NaN</td>\n",
       "      <td>NaN</td>\n",
       "      <td>Web</td>\n",
       "      <td>2025-06-20</td>\n",
       "      <td>In progress</td>\n",
       "      <td>Yes</td>\n",
       "      <td>NaN</td>\n",
       "      <td>14195689</td>\n",
       "      <td>0</td>\n",
       "    </tr>\n",
       "    <tr>\n",
       "      <th>3</th>\n",
       "      <td>2025-06-20</td>\n",
       "      <td>Credit reporting or other personal consumer re...</td>\n",
       "      <td>Credit reporting</td>\n",
       "      <td>Improper use of your report</td>\n",
       "      <td>Reporting company used your report improperly</td>\n",
       "      <td>NaN</td>\n",
       "      <td>NaN</td>\n",
       "      <td>Experian Information Solutions Inc.</td>\n",
       "      <td>AZ</td>\n",
       "      <td>85225</td>\n",
       "      <td>NaN</td>\n",
       "      <td>NaN</td>\n",
       "      <td>Web</td>\n",
       "      <td>2025-06-20</td>\n",
       "      <td>In progress</td>\n",
       "      <td>Yes</td>\n",
       "      <td>NaN</td>\n",
       "      <td>14195690</td>\n",
       "      <td>0</td>\n",
       "    </tr>\n",
       "    <tr>\n",
       "      <th>4</th>\n",
       "      <td>2025-06-20</td>\n",
       "      <td>Credit reporting or other personal consumer re...</td>\n",
       "      <td>Credit reporting</td>\n",
       "      <td>Incorrect information on your report</td>\n",
       "      <td>Account status incorrect</td>\n",
       "      <td>NaN</td>\n",
       "      <td>NaN</td>\n",
       "      <td>Experian Information Solutions Inc.</td>\n",
       "      <td>IL</td>\n",
       "      <td>60628</td>\n",
       "      <td>NaN</td>\n",
       "      <td>NaN</td>\n",
       "      <td>Web</td>\n",
       "      <td>2025-06-20</td>\n",
       "      <td>In progress</td>\n",
       "      <td>Yes</td>\n",
       "      <td>NaN</td>\n",
       "      <td>14195692</td>\n",
       "      <td>0</td>\n",
       "    </tr>\n",
       "  </tbody>\n",
       "</table>\n",
       "</div>"
      ],
      "text/plain": [
       "  Date received                                            Product  \\\n",
       "0    2025-06-20  Credit reporting or other personal consumer re...   \n",
       "1    2025-06-20                                    Debt collection   \n",
       "2    2025-06-20  Credit reporting or other personal consumer re...   \n",
       "3    2025-06-20  Credit reporting or other personal consumer re...   \n",
       "4    2025-06-20  Credit reporting or other personal consumer re...   \n",
       "\n",
       "               Sub-product                                 Issue  \\\n",
       "0         Credit reporting  Incorrect information on your report   \n",
       "1  Telecommunications debt     Attempts to collect debt not owed   \n",
       "2         Credit reporting           Improper use of your report   \n",
       "3         Credit reporting           Improper use of your report   \n",
       "4         Credit reporting  Incorrect information on your report   \n",
       "\n",
       "                                       Sub-issue Consumer complaint narrative  \\\n",
       "0            Information belongs to someone else                          NaN   \n",
       "1                              Debt is not yours                          NaN   \n",
       "2  Reporting company used your report improperly                          NaN   \n",
       "3  Reporting company used your report improperly                          NaN   \n",
       "4                       Account status incorrect                          NaN   \n",
       "\n",
       "                             Company public response  \\\n",
       "0                                                NaN   \n",
       "1  Company can't verify or dispute the facts in t...   \n",
       "2                                                NaN   \n",
       "3                                                NaN   \n",
       "4                                                NaN   \n",
       "\n",
       "                                        Company State ZIP code Tags  \\\n",
       "0           Experian Information Solutions Inc.    FL    32092  NaN   \n",
       "1  Eastern Account Systems of Connecticut, Inc.    FL    342XX  NaN   \n",
       "2        TRANSUNION INTERMEDIATE HOLDINGS, INC.    AZ    85225  NaN   \n",
       "3           Experian Information Solutions Inc.    AZ    85225  NaN   \n",
       "4           Experian Information Solutions Inc.    IL    60628  NaN   \n",
       "\n",
       "  Consumer consent provided? Submitted via Date sent to company  \\\n",
       "0                        NaN           Web           2025-06-20   \n",
       "1                        NaN           Web           2025-06-20   \n",
       "2                        NaN           Web           2025-06-20   \n",
       "3                        NaN           Web           2025-06-20   \n",
       "4                        NaN           Web           2025-06-20   \n",
       "\n",
       "  Company response to consumer Timely response? Consumer disputed?  \\\n",
       "0                  In progress              Yes                NaN   \n",
       "1      Closed with explanation              Yes                NaN   \n",
       "2                  In progress              Yes                NaN   \n",
       "3                  In progress              Yes                NaN   \n",
       "4                  In progress              Yes                NaN   \n",
       "\n",
       "   Complaint ID  narrative_length  \n",
       "0      14195687                 0  \n",
       "1      14195688                 0  \n",
       "2      14195689                 0  \n",
       "3      14195690                 0  \n",
       "4      14195692                 0  "
      ]
     },
     "execution_count": 7,
     "metadata": {},
     "output_type": "execute_result"
    }
   ],
   "source": [
    "df.head()"
   ]
  },
  {
   "cell_type": "markdown",
   "id": "a1201122",
   "metadata": {},
   "source": [
    "### Text Chuncking"
   ]
  },
  {
   "cell_type": "code",
   "execution_count": 8,
   "id": "cd2dd470",
   "metadata": {},
   "outputs": [],
   "source": [
    "# Import the text splitter and initialize it\n",
    "from src.embedding.chunking import get_text_splitter\n",
    "text_splitter = get_text_splitter()"
   ]
  },
  {
   "cell_type": "code",
   "execution_count": null,
   "id": "039bec76",
   "metadata": {},
   "outputs": [],
   "source": [
    "from tqdm import tqdm\n",
    "# chunking process\n",
    "docs = []\n",
    "metadata = []\n",
    "\n",
    "for _, row in df.iterrows():\n",
    "    chunks = text_splitter.split_text(row['clean_text'])\n",
    "    for chunk in chunks:\n",
    "        docs.append(chunk)\n",
    "        metadata.append({\n",
    "            \"complaint_id\": row['Complaint ID'],\n",
    "            \"product\": row['MappedProduct']\n",
    "        })\n",
    "\n",
    "print(f\"Total text chunks created: {len(docs)}\")"
   ]
  }
 ],
 "metadata": {
  "kernelspec": {
   "display_name": ".venv",
   "language": "python",
   "name": "python3"
  },
  "language_info": {
   "codemirror_mode": {
    "name": "ipython",
    "version": 3
   },
   "file_extension": ".py",
   "mimetype": "text/x-python",
   "name": "python",
   "nbconvert_exporter": "python",
   "pygments_lexer": "ipython3",
   "version": "3.12.3"
  }
 },
 "nbformat": 4,
 "nbformat_minor": 5
}
