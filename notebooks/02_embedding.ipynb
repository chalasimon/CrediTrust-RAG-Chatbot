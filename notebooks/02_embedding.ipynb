{
 "cells": [
  {
   "cell_type": "markdown",
   "id": "81cab9ef",
   "metadata": {},
   "source": [
    "# Task 2: Text Chunking, Embedding, and Vector Store Indexing"
   ]
  },
  {
   "cell_type": "code",
   "execution_count": null,
   "id": "f0ab6689",
   "metadata": {},
   "outputs": [],
   "source": [
    "# %% Setup\n",
    "import pandas as pd\n",
    "from langchain.text_splitter import RecursiveCharacterTextSplitter\n",
    "from sentence_transformers import SentenceTransformer\n",
    "import faiss\n",
    "import numpy as np\n",
    "import os"
   ]
  },
  {
   "cell_type": "markdown",
   "id": "8a3c185e",
   "metadata": {},
   "source": [
    "### Load the dataset"
   ]
  },
  {
   "cell_type": "code",
   "execution_count": null,
   "id": "9e55170c",
   "metadata": {},
   "outputs": [],
   "source": [
    "# import the module to load the data into dataframes\n",
    "from src.data_loader import DataLoader\n",
    "import src.data_loader\n",
    "reload(src.data_loader)"
   ]
  },
  {
   "cell_type": "code",
   "execution_count": null,
   "id": "58d84db9",
   "metadata": {},
   "outputs": [],
   "source": [
    "# Load the dataset\n",
    "data_loader = DataLoader('../data/processed/filtered_complaints.csv')\n",
    "df = data_loader.load_data()\n",
    "print(f\"Loaded {len(df)} cleaned complaints\")"
   ]
  },
  {
   "cell_type": "markdown",
   "id": "a1201122",
   "metadata": {},
   "source": [
    "### Text Chuncking"
   ]
  },
  {
   "cell_type": "code",
   "execution_count": null,
   "id": "039bec76",
   "metadata": {},
   "outputs": [],
   "source": [
    "# %% Chunking Strategy\n",
    "text_splitter = RecursiveCharacterTextSplitter(\n",
    "    chunk_size=150,  # Optimal for financial complaints\n",
    "    chunk_overlap=30,  # Maintains context\n",
    "    length_function=len,\n",
    "    separators=['\\n\\n', '\\n', '. ', '! ', '? ', ' ', '']\n",
    ")\n",
    "# Split the text into chunks\n",
    "sample_text = df.iloc[0]['clean_text']\n",
    "chunks = text_splitter.split_text(sample_text)\n",
    "print(f\"Sample chunks:\\n{chunks}\")"
   ]
  }
 ],
 "metadata": {
  "kernelspec": {
   "display_name": ".venv",
   "language": "python",
   "name": "python3"
  },
  "language_info": {
   "codemirror_mode": {
    "name": "ipython",
    "version": 3
   },
   "file_extension": ".py",
   "mimetype": "text/x-python",
   "name": "python",
   "nbconvert_exporter": "python",
   "pygments_lexer": "ipython3",
   "version": "3.12.3"
  }
 },
 "nbformat": 4,
 "nbformat_minor": 5
}
