{
 "cells": [
  {
   "cell_type": "markdown",
   "id": "81cab9ef",
   "metadata": {},
   "source": [
    "# Task 2: Text Chunking, Embedding, and Vector Store Indexing"
   ]
  },
  {
   "cell_type": "code",
   "execution_count": 1,
   "id": "f0ab6689",
   "metadata": {},
   "outputs": [],
   "source": [
    "import sys\n",
    "import os\n",
    "import pandas as pd\n",
    "from glob import glob"
   ]
  },
  {
   "cell_type": "code",
   "execution_count": 2,
   "id": "a76f0e08",
   "metadata": {},
   "outputs": [],
   "source": [
    "from pathlib import Path\n",
    "from importlib import reload\n",
    "# add the project root to the path\n",
    "project_root = Path(\"..\").resolve()\n",
    "if str(project_root) not in sys.path:\n",
    "    sys.path.insert(0, str(project_root))"
   ]
  },
  {
   "cell_type": "markdown",
   "id": "8a3c185e",
   "metadata": {},
   "source": [
    "### Load the dataset"
   ]
  },
  {
   "cell_type": "code",
   "execution_count": 3,
   "id": "9e55170c",
   "metadata": {},
   "outputs": [
    {
     "data": {
      "text/plain": [
       "<module 'src.data_loader' from '/home/chalasimon/Documents/10academy/week 6/challenge/CrediTrust-RAG-Chatbot/src/data_loader.py'>"
      ]
     },
     "execution_count": 3,
     "metadata": {},
     "output_type": "execute_result"
    }
   ],
   "source": [
    "# import the module to load the data into dataframes\n",
    "from src.data_loader import DataLoader\n",
    "import src.data_loader\n",
    "reload(src.data_loader)"
   ]
  },
  {
   "cell_type": "code",
   "execution_count": 4,
   "id": "58d84db9",
   "metadata": {},
   "outputs": [
    {
     "name": "stdout",
     "output_type": "stream",
     "text": [
      "Loaded 478818 cleaned complaints\n"
     ]
    }
   ],
   "source": [
    "# Load the dataset\n",
    "data_loader = DataLoader('../data/processed/filtered_complaints.csv')\n",
    "df = data_loader.load_data()\n",
    "print(f\"Loaded {len(df)} cleaned complaints\")"
   ]
  },
  {
   "cell_type": "code",
   "execution_count": 5,
   "id": "f536b4e1",
   "metadata": {},
   "outputs": [
    {
     "data": {
      "application/vnd.microsoft.datawrangler.viewer.v0+json": {
       "columns": [
        {
         "name": "index",
         "rawType": "int64",
         "type": "integer"
        },
        {
         "name": "Date received",
         "rawType": "object",
         "type": "string"
        },
        {
         "name": "Product",
         "rawType": "object",
         "type": "string"
        },
        {
         "name": "Sub-product",
         "rawType": "object",
         "type": "string"
        },
        {
         "name": "Issue",
         "rawType": "object",
         "type": "string"
        },
        {
         "name": "Sub-issue",
         "rawType": "object",
         "type": "string"
        },
        {
         "name": "Consumer complaint narrative",
         "rawType": "object",
         "type": "string"
        },
        {
         "name": "Company public response",
         "rawType": "object",
         "type": "string"
        },
        {
         "name": "Company",
         "rawType": "object",
         "type": "string"
        },
        {
         "name": "State",
         "rawType": "object",
         "type": "string"
        },
        {
         "name": "ZIP code",
         "rawType": "object",
         "type": "string"
        },
        {
         "name": "Tags",
         "rawType": "object",
         "type": "unknown"
        },
        {
         "name": "Consumer consent provided?",
         "rawType": "object",
         "type": "string"
        },
        {
         "name": "Submitted via",
         "rawType": "object",
         "type": "string"
        },
        {
         "name": "Date sent to company",
         "rawType": "object",
         "type": "string"
        },
        {
         "name": "Company response to consumer",
         "rawType": "object",
         "type": "string"
        },
        {
         "name": "Timely response?",
         "rawType": "object",
         "type": "string"
        },
        {
         "name": "Consumer disputed?",
         "rawType": "object",
         "type": "unknown"
        },
        {
         "name": "Complaint ID",
         "rawType": "int64",
         "type": "integer"
        },
        {
         "name": "narrative_length",
         "rawType": "int64",
         "type": "integer"
        },
        {
         "name": "MappedProduct",
         "rawType": "object",
         "type": "string"
        },
        {
         "name": "clean_text",
         "rawType": "object",
         "type": "string"
        }
       ],
       "ref": "7b6c6c38-49a9-4bf8-885c-01de880e2f8e",
       "rows": [
        [
         "0",
         "2025-06-13",
         "Credit card",
         "Store credit card",
         "Getting a credit card",
         "Card opened without my consent or knowledge",
         "A XXXX XXXX card was opened under my name by a fraudster. I received a notice from XXXX  that an account was just opened under my name. I reached out to XXXX XXXX to state that this activity was unauthorized and not me. XXXX XXXX confirmed this was fraudulent and immediately closed the card. However, they have failed to remove this from the three credit agencies and this fraud is now impacting my credit score based on a hard credit pull done by XXXX XXXX that was done by a fraudster.",
         "Company has responded to the consumer and the CFPB and chooses not to provide a public response",
         "CITIBANK, N.A.",
         "TX",
         "78230",
         "Servicemember",
         "Consent provided",
         "Web",
         "2025-06-13",
         "Closed with non-monetary relief",
         "Yes",
         null,
         "14069121",
         "91",
         "Credit card",
         "a xxxx xxxx card was opened under my name by a fraudster. i received a notice from xxxx that an account was just opened under my name. i reached out to xxxx xxxx to state that this activity was unauthorized and not me. xxxx xxxx confirmed this was fraudulent and immediately closed the card. however, they have failed to remove this from the three credit agencies and this fraud is now impacting my credit score based on a hard credit pull done by xxxx xxxx that was done by a fraudster."
        ],
        [
         "1",
         "2025-06-13",
         "Checking or savings account",
         "Checking account",
         "Managing an account",
         "Deposits and withdrawals",
         "I made the mistake of using my wellsfargo debit card to depsit funds Into XXXXXXXX ATM machine outside their branch. \n\nI went into the branch and was told they couldn't help and had to phone the customer service for help. I did this and was told I was helped gave all the info for the time terminal id aact # s, XXXX was able to find the transaction and give me this info, he said the dispute would take a few days. \n\nI waited a few days and got a letter stating my dispute was rejected. I went back into XXXX and they said they never got the transaction.",
         "Company has responded to the consumer and the CFPB and chooses not to provide a public response",
         "WELLS FARGO & COMPANY",
         "ID",
         "83815",
         null,
         "Consent provided",
         "Web",
         "2025-06-13",
         "Closed with explanation",
         "Yes",
         null,
         "14061897",
         "109",
         "Saving account",
         "i made the mistake of using my wellsfargo debit card to depsit funds into xxxxxxxx atm machine outside their branch. i went into the branch and was told they couldnt help and had to phone the customer service for help. i did this and was told i was helped gave all the info for the time terminal id aact s, xxxx was able to find the transaction and give me this info, he said the dispute would take a few days. i waited a few days and got a letter stating my dispute was rejected. i went back into xxxx and they said they never got the transaction."
        ],
        [
         "2",
         "2025-06-12",
         "Credit card",
         "General-purpose credit card or charge card",
         "Other features, terms, or problems",
         "Other problem",
         "Dear CFPB, I have a secured credit card with citibank which is changed to unsecured card and I have been calling n waitting for the check release the secured amount {$2500.00} for rhat credit card. They told me to wait then today they told me someone cashed my check but their system doesnt have info as of who, where and when did it happen!!\n\nI requested a case number but they wont send me any confirmation whatsoever to report to the police.\n\nThey told me I have to wait for some form that might be sent to me via mail within 14 days to fill out. I called customer service second time today and their manager told me same thing, no info no help at all! Please help me, it's a big bank but the service is so terrible and lil customer like me can do nothing! Thank so much and look forward for your reply!",
         "Company has responded to the consumer and the CFPB and chooses not to provide a public response",
         "CITIBANK, N.A.",
         "NY",
         "11220",
         null,
         "Consent provided",
         "Web",
         "2025-06-13",
         "Closed with monetary relief",
         "Yes",
         null,
         "14047085",
         "156",
         "Credit card",
         "dear cfpb, i have a secured credit card with citibank which is changed to unsecured card and i have been calling n waitting for the check release the secured amount 2500.00 for rhat credit card. they told me to wait then today they told me someone cashed my check but their system doesnt have info as of who, where and when did it happen!! i requested a case number but they wont send me any confirmation whatsoever to report to the police. they told me i have to wait for some form that might be sent to me via mail within 14 days to fill out. i called customer service second time today and their manager told me same thing, no info no help at all! please help me, its a big bank but the service is so terrible and lil customer like me can do nothing! thank so much and look forward for your reply!"
        ],
        [
         "3",
         "2025-06-12",
         "Credit card",
         "General-purpose credit card or charge card",
         "Incorrect information on your report",
         "Account information incorrect",
         "I have a Citi rewards cards. The credit balance issued to me was {$8400.00}. I recently moved, which meant my bills would be lowered, which meant I'd have LESS use for my credit cards. So in order to keep my usage in a generally good area I used each of my cards with the intention to pay them down monthly which would result in a boost to my credit score, showing creditors I can pay doen. All of my cards are in good standing. My credit is in good standing. But on the XXXX XXXX XXXX Citi abruptly slashes the balance of my card from {$8400.00} down to {$5400.00} and sends me a message that I have just about reached my credit limit. I contacted them and all they said was consult a letter they emailed on the XXXX. The slashing action was taken the day OF the letter ( XXXX ) and I had no recourse to respond nor was I even aware of this action prior to the notification about reaching my limit, which I received on or about the XXXX of XXXX. This is an egregious act that not only blindsided me but manipulates my account to make it APPEAR that I'm close to reaching the limit, when in fact I was no where near the limit. This could negatively impact my credit score through no fault of my own.",
         "Company has responded to the consumer and the CFPB and chooses not to provide a public response",
         "CITIBANK, N.A.",
         "IL",
         "60067",
         null,
         "Consent provided",
         "Web",
         "2025-06-12",
         "Closed with explanation",
         "Yes",
         null,
         "14040217",
         "233",
         "Credit card",
         "i have a citi rewards cards. the credit balance issued to me was 8400.00. i recently moved, which meant my bills would be lowered, which meant id have less use for my credit cards. so in order to keep my usage in a generally good area i used each of my cards with the intention to pay them down monthly which would result in a boost to my credit score, showing creditors i can pay doen. all of my cards are in good standing. my credit is in good standing. but on the xxxx xxxx xxxx citi abruptly slashes the balance of my card from 8400.00 down to 5400.00 and sends me a message that i have just about reached my credit limit. i contacted them and all they said was consult a letter they emailed on the xxxx. the slashing action was taken the day of the letter xxxx and i had no recourse to respond nor was i even aware of this action prior to the notification about reaching my limit, which i received on or about the xxxx of xxxx. this is an egregious act that not only blindsided me but manipulates my account to make it appear that im close to reaching the limit, when in fact i was no where near the limit. this could negatively impact my credit score through no fault of my own."
        ],
        [
         "4",
         "2025-06-09",
         "Credit card",
         "General-purpose credit card or charge card",
         "Problem with a purchase shown on your statement",
         "Credit card company isn't resolving a dispute about a purchase on your statement",
         "b'I am writing to dispute the following charges on my CITI Credit Card Accounts where I have become a victim of identity theft when someone made a purchase without my authorization, I have not made any purchases and have no knowledge of them, I strongly believe the unauthorized transaction are the result of identity theft. An attachment fromXX/XX/XXXXshowing a new address for me is also fraudulent, I do not have or lived in Murfreesboro, TN  XX/XX/XXXX, thats when I became aware of the fraudulent charges. I then started the communications with CITI, XX/XX/XXXXabout the unauthorized fraudulent charge, I also included statements, credit score negative points due to inaccurate charges. After several attempts to clear this matter, it has become apparent that I am being ignored by CITI. I am not sure how to proceed to try and get the right help to clear this matter. I am hoping I have reached the correct CITI group to clear this matter.\\n\\nAccount Opened: XX/XX/XXXXcredit card number:XX/XX/XXXXn1.\\tCharge #1 of XX/XX/XXXX Charge amount was disputed and CITI closed account and mailed a 2nd different account.\\nNew CITI credit card replacement: XX/XX/XXXXn XX/XX/XXXXtCharge #2 interest charge and previously monthly payment total: XX/XX/XXXX dollars. Charge amount was disputed and CITI closed account and mailed a 3rd  different account.\\nNew CITI credit card replacemenXX/XX/XXXX\\tCharge #3 interest charge including previously monthly payment total XX/XX/XXXX\\nI have made three (3) phone call attempts to phone numberXX/XX/XXXX between March 4, 2025 thrXX/XX/XXXX to CITI to resolve the unauthorized charges with CITI to no avail. In return CITI has closed the original credit card with the credit card numbers as listed above but has kept transferring the unauthorized charges of the original credit card that was opened on XX/XX/XXXXo the new credit card accounts. CITI needs to remove all charges and credit my account showing a zero balance, I did not make any purchases whatsoever and I should not be responsible for any payments. CITI has turned in a late payment exceeding 30 days to the credit bureau and it has cost me a negative ofXX/XX/XXXX points. I have lost all faith in communicating with CITI by telephone to resolve this issue that is extremely frustrating. I need help to clear this matter.\\n\\nI am requesting that you immediately remove these charges from my account and credit my account for the total amount ofXX/XX/XXXXdollars. I also request that you investigate these unauthorized transaction and take steps to prevent future fraudulent charges to my account.\\n\\nI have attached copies of my credit card statement and other documents that support my claim.\\n\\nPlease send me written confirmation that you have removed the fraudulent charges and credited my account, and also that you have investigated the matter.\\n\\nThank you for your prompt attention to this matter.'",
         "Company has responded to the consumer and the CFPB and chooses not to provide a public response",
         "CITIBANK, N.A.",
         "TX",
         "78413",
         "Older American",
         "Consent provided",
         "Web",
         "2025-06-09",
         "Closed with monetary relief",
         "Yes",
         null,
         "13968411",
         "454",
         "Credit card",
         "bi am writing to dispute the following charges on my citi credit card accounts where i have become a victim of identity theft when someone made a purchase without my authorization, i have not made any purchases and have no knowledge of them, i strongly believe the unauthorized transaction are the result of identity theft. an attachment fromxxxxxxxxshowing a new address for me is also fraudulent, i do not have or lived in murfreesboro, tn xxxxxxxx, thats when i became aware of the fraudulent charges. i then started the communications with citi, xxxxxxxxabout the unauthorized fraudulent charge, i also included statements, credit score negative points due to inaccurate charges. after several attempts to clear this matter, it has become apparent that i am being ignored by citi. i am not sure how to proceed to try and get the right help to clear this matter. i am hoping i have reached the correct citi group to clear this matter.nnaccount opened xxxxxxxxcredit card numberxxxxxxxxn1.tcharge 1 of xxxxxxxx charge amount was disputed and citi closed account and mailed a 2nd different account.nnew citi credit card replacement xxxxxxxxn xxxxxxxxtcharge 2 interest charge and previously monthly payment total xxxxxxxx dollars. charge amount was disputed and citi closed account and mailed a 3rd different account.nnew citi credit card replacemenxxxxxxxxtcharge 3 interest charge including previously monthly payment total xxxxxxxxni have made three 3 phone call attempts to phone numberxxxxxxxx between march 4, 2025 thrxxxxxxxx to citi to resolve the unauthorized charges with citi to no avail. in return citi has closed the original credit card with the credit card numbers as listed above but has kept transferring the unauthorized charges of the original credit card that was opened on xxxxxxxxo the new credit card accounts. citi needs to remove all charges and credit my account showing a zero balance, i did not make any purchases whatsoever and i should not be responsible for any payments. citi has turned in a late payment exceeding 30 days to the credit bureau and it has cost me a negative ofxxxxxxxx points. i have lost all faith in communicating with citi by telephone to resolve this issue that is extremely frustrating. i need help to clear this matter.nni am requesting that you immediately remove these charges from my account and credit my account for the total amount ofxxxxxxxxdollars. i also request that you investigate these unauthorized transaction and take steps to prevent future fraudulent charges to my account.nni have attached copies of my credit card statement and other documents that support my claim.nnplease send me written confirmation that you have removed the fraudulent charges and credited my account, and also that you have investigated the matter.nnthank you for your prompt attention to this matter."
        ]
       ],
       "shape": {
        "columns": 21,
        "rows": 5
       }
      },
      "text/html": [
       "<div>\n",
       "<style scoped>\n",
       "    .dataframe tbody tr th:only-of-type {\n",
       "        vertical-align: middle;\n",
       "    }\n",
       "\n",
       "    .dataframe tbody tr th {\n",
       "        vertical-align: top;\n",
       "    }\n",
       "\n",
       "    .dataframe thead th {\n",
       "        text-align: right;\n",
       "    }\n",
       "</style>\n",
       "<table border=\"1\" class=\"dataframe\">\n",
       "  <thead>\n",
       "    <tr style=\"text-align: right;\">\n",
       "      <th></th>\n",
       "      <th>Date received</th>\n",
       "      <th>Product</th>\n",
       "      <th>Sub-product</th>\n",
       "      <th>Issue</th>\n",
       "      <th>Sub-issue</th>\n",
       "      <th>Consumer complaint narrative</th>\n",
       "      <th>Company public response</th>\n",
       "      <th>Company</th>\n",
       "      <th>State</th>\n",
       "      <th>ZIP code</th>\n",
       "      <th>...</th>\n",
       "      <th>Consumer consent provided?</th>\n",
       "      <th>Submitted via</th>\n",
       "      <th>Date sent to company</th>\n",
       "      <th>Company response to consumer</th>\n",
       "      <th>Timely response?</th>\n",
       "      <th>Consumer disputed?</th>\n",
       "      <th>Complaint ID</th>\n",
       "      <th>narrative_length</th>\n",
       "      <th>MappedProduct</th>\n",
       "      <th>clean_text</th>\n",
       "    </tr>\n",
       "  </thead>\n",
       "  <tbody>\n",
       "    <tr>\n",
       "      <th>0</th>\n",
       "      <td>2025-06-13</td>\n",
       "      <td>Credit card</td>\n",
       "      <td>Store credit card</td>\n",
       "      <td>Getting a credit card</td>\n",
       "      <td>Card opened without my consent or knowledge</td>\n",
       "      <td>A XXXX XXXX card was opened under my name by a...</td>\n",
       "      <td>Company has responded to the consumer and the ...</td>\n",
       "      <td>CITIBANK, N.A.</td>\n",
       "      <td>TX</td>\n",
       "      <td>78230</td>\n",
       "      <td>...</td>\n",
       "      <td>Consent provided</td>\n",
       "      <td>Web</td>\n",
       "      <td>2025-06-13</td>\n",
       "      <td>Closed with non-monetary relief</td>\n",
       "      <td>Yes</td>\n",
       "      <td>NaN</td>\n",
       "      <td>14069121</td>\n",
       "      <td>91</td>\n",
       "      <td>Credit card</td>\n",
       "      <td>a xxxx xxxx card was opened under my name by a...</td>\n",
       "    </tr>\n",
       "    <tr>\n",
       "      <th>1</th>\n",
       "      <td>2025-06-13</td>\n",
       "      <td>Checking or savings account</td>\n",
       "      <td>Checking account</td>\n",
       "      <td>Managing an account</td>\n",
       "      <td>Deposits and withdrawals</td>\n",
       "      <td>I made the mistake of using my wellsfargo debi...</td>\n",
       "      <td>Company has responded to the consumer and the ...</td>\n",
       "      <td>WELLS FARGO &amp; COMPANY</td>\n",
       "      <td>ID</td>\n",
       "      <td>83815</td>\n",
       "      <td>...</td>\n",
       "      <td>Consent provided</td>\n",
       "      <td>Web</td>\n",
       "      <td>2025-06-13</td>\n",
       "      <td>Closed with explanation</td>\n",
       "      <td>Yes</td>\n",
       "      <td>NaN</td>\n",
       "      <td>14061897</td>\n",
       "      <td>109</td>\n",
       "      <td>Saving account</td>\n",
       "      <td>i made the mistake of using my wellsfargo debi...</td>\n",
       "    </tr>\n",
       "    <tr>\n",
       "      <th>2</th>\n",
       "      <td>2025-06-12</td>\n",
       "      <td>Credit card</td>\n",
       "      <td>General-purpose credit card or charge card</td>\n",
       "      <td>Other features, terms, or problems</td>\n",
       "      <td>Other problem</td>\n",
       "      <td>Dear CFPB, I have a secured credit card with c...</td>\n",
       "      <td>Company has responded to the consumer and the ...</td>\n",
       "      <td>CITIBANK, N.A.</td>\n",
       "      <td>NY</td>\n",
       "      <td>11220</td>\n",
       "      <td>...</td>\n",
       "      <td>Consent provided</td>\n",
       "      <td>Web</td>\n",
       "      <td>2025-06-13</td>\n",
       "      <td>Closed with monetary relief</td>\n",
       "      <td>Yes</td>\n",
       "      <td>NaN</td>\n",
       "      <td>14047085</td>\n",
       "      <td>156</td>\n",
       "      <td>Credit card</td>\n",
       "      <td>dear cfpb, i have a secured credit card with c...</td>\n",
       "    </tr>\n",
       "    <tr>\n",
       "      <th>3</th>\n",
       "      <td>2025-06-12</td>\n",
       "      <td>Credit card</td>\n",
       "      <td>General-purpose credit card or charge card</td>\n",
       "      <td>Incorrect information on your report</td>\n",
       "      <td>Account information incorrect</td>\n",
       "      <td>I have a Citi rewards cards. The credit balanc...</td>\n",
       "      <td>Company has responded to the consumer and the ...</td>\n",
       "      <td>CITIBANK, N.A.</td>\n",
       "      <td>IL</td>\n",
       "      <td>60067</td>\n",
       "      <td>...</td>\n",
       "      <td>Consent provided</td>\n",
       "      <td>Web</td>\n",
       "      <td>2025-06-12</td>\n",
       "      <td>Closed with explanation</td>\n",
       "      <td>Yes</td>\n",
       "      <td>NaN</td>\n",
       "      <td>14040217</td>\n",
       "      <td>233</td>\n",
       "      <td>Credit card</td>\n",
       "      <td>i have a citi rewards cards. the credit balanc...</td>\n",
       "    </tr>\n",
       "    <tr>\n",
       "      <th>4</th>\n",
       "      <td>2025-06-09</td>\n",
       "      <td>Credit card</td>\n",
       "      <td>General-purpose credit card or charge card</td>\n",
       "      <td>Problem with a purchase shown on your statement</td>\n",
       "      <td>Credit card company isn't resolving a dispute ...</td>\n",
       "      <td>b'I am writing to dispute the following charge...</td>\n",
       "      <td>Company has responded to the consumer and the ...</td>\n",
       "      <td>CITIBANK, N.A.</td>\n",
       "      <td>TX</td>\n",
       "      <td>78413</td>\n",
       "      <td>...</td>\n",
       "      <td>Consent provided</td>\n",
       "      <td>Web</td>\n",
       "      <td>2025-06-09</td>\n",
       "      <td>Closed with monetary relief</td>\n",
       "      <td>Yes</td>\n",
       "      <td>NaN</td>\n",
       "      <td>13968411</td>\n",
       "      <td>454</td>\n",
       "      <td>Credit card</td>\n",
       "      <td>bi am writing to dispute the following charges...</td>\n",
       "    </tr>\n",
       "  </tbody>\n",
       "</table>\n",
       "<p>5 rows × 21 columns</p>\n",
       "</div>"
      ],
      "text/plain": [
       "  Date received                      Product  \\\n",
       "0    2025-06-13                  Credit card   \n",
       "1    2025-06-13  Checking or savings account   \n",
       "2    2025-06-12                  Credit card   \n",
       "3    2025-06-12                  Credit card   \n",
       "4    2025-06-09                  Credit card   \n",
       "\n",
       "                                  Sub-product  \\\n",
       "0                           Store credit card   \n",
       "1                            Checking account   \n",
       "2  General-purpose credit card or charge card   \n",
       "3  General-purpose credit card or charge card   \n",
       "4  General-purpose credit card or charge card   \n",
       "\n",
       "                                             Issue  \\\n",
       "0                            Getting a credit card   \n",
       "1                              Managing an account   \n",
       "2               Other features, terms, or problems   \n",
       "3             Incorrect information on your report   \n",
       "4  Problem with a purchase shown on your statement   \n",
       "\n",
       "                                           Sub-issue  \\\n",
       "0        Card opened without my consent or knowledge   \n",
       "1                           Deposits and withdrawals   \n",
       "2                                      Other problem   \n",
       "3                      Account information incorrect   \n",
       "4  Credit card company isn't resolving a dispute ...   \n",
       "\n",
       "                        Consumer complaint narrative  \\\n",
       "0  A XXXX XXXX card was opened under my name by a...   \n",
       "1  I made the mistake of using my wellsfargo debi...   \n",
       "2  Dear CFPB, I have a secured credit card with c...   \n",
       "3  I have a Citi rewards cards. The credit balanc...   \n",
       "4  b'I am writing to dispute the following charge...   \n",
       "\n",
       "                             Company public response                Company  \\\n",
       "0  Company has responded to the consumer and the ...         CITIBANK, N.A.   \n",
       "1  Company has responded to the consumer and the ...  WELLS FARGO & COMPANY   \n",
       "2  Company has responded to the consumer and the ...         CITIBANK, N.A.   \n",
       "3  Company has responded to the consumer and the ...         CITIBANK, N.A.   \n",
       "4  Company has responded to the consumer and the ...         CITIBANK, N.A.   \n",
       "\n",
       "  State ZIP code  ... Consumer consent provided? Submitted via  \\\n",
       "0    TX    78230  ...           Consent provided           Web   \n",
       "1    ID    83815  ...           Consent provided           Web   \n",
       "2    NY    11220  ...           Consent provided           Web   \n",
       "3    IL    60067  ...           Consent provided           Web   \n",
       "4    TX    78413  ...           Consent provided           Web   \n",
       "\n",
       "  Date sent to company     Company response to consumer Timely response?  \\\n",
       "0           2025-06-13  Closed with non-monetary relief              Yes   \n",
       "1           2025-06-13          Closed with explanation              Yes   \n",
       "2           2025-06-13      Closed with monetary relief              Yes   \n",
       "3           2025-06-12          Closed with explanation              Yes   \n",
       "4           2025-06-09      Closed with monetary relief              Yes   \n",
       "\n",
       "  Consumer disputed? Complaint ID  narrative_length   MappedProduct  \\\n",
       "0                NaN     14069121                91     Credit card   \n",
       "1                NaN     14061897               109  Saving account   \n",
       "2                NaN     14047085               156     Credit card   \n",
       "3                NaN     14040217               233     Credit card   \n",
       "4                NaN     13968411               454     Credit card   \n",
       "\n",
       "                                          clean_text  \n",
       "0  a xxxx xxxx card was opened under my name by a...  \n",
       "1  i made the mistake of using my wellsfargo debi...  \n",
       "2  dear cfpb, i have a secured credit card with c...  \n",
       "3  i have a citi rewards cards. the credit balanc...  \n",
       "4  bi am writing to dispute the following charges...  \n",
       "\n",
       "[5 rows x 21 columns]"
      ]
     },
     "execution_count": 5,
     "metadata": {},
     "output_type": "execute_result"
    }
   ],
   "source": [
    "df.head()"
   ]
  },
  {
   "cell_type": "markdown",
   "id": "a1201122",
   "metadata": {},
   "source": [
    "### Text Chuncking"
   ]
  },
  {
   "cell_type": "code",
   "execution_count": 6,
   "id": "cd2dd470",
   "metadata": {},
   "outputs": [],
   "source": [
    "# Import the text splitter and initialize it\n",
    "from src.embedding.chunking import get_text_splitter\n",
    "text_splitter = get_text_splitter()"
   ]
  },
  {
   "cell_type": "code",
   "execution_count": 7,
   "id": "039bec76",
   "metadata": {},
   "outputs": [
    {
     "name": "stdout",
     "output_type": "stream",
     "text": [
      "Total text chunks created: 5289405\n"
     ]
    }
   ],
   "source": [
    "from tqdm import tqdm\n",
    "# chunking process\n",
    "docs = []\n",
    "metadata = []\n",
    "\n",
    "for _, row in df.iterrows():\n",
    "    chunks = text_splitter.split_text(row['clean_text'])\n",
    "    for chunk in chunks:\n",
    "        docs.append(chunk)\n",
    "        metadata.append({\n",
    "            \"complaint_id\": row['Complaint ID'],\n",
    "            \"product\": row['MappedProduct']\n",
    "        })\n",
    "\n",
    "print(f\"Total text chunks created: {len(docs)}\")"
   ]
  },
  {
   "cell_type": "markdown",
   "id": "321fd90f",
   "metadata": {},
   "source": [
    "### Text Embedding"
   ]
  },
  {
   "cell_type": "code",
   "execution_count": null,
   "id": "1fc084e5",
   "metadata": {},
   "outputs": [],
   "source": [
    "# load and initialize the embedding function\n",
    "from src.embedding.embedder import Embedder\n",
    "\n",
    "embedder = Embedder()"
   ]
  },
  {
   "cell_type": "code",
   "execution_count": null,
   "id": "dbddbbb7",
   "metadata": {},
   "outputs": [],
   "source": [
    "print(f\"Embedding model loaded: {embedder.model}\")\n",
    "print(f\"Embedding dimension: {embedder.get_embedding_dimension()}\")"
   ]
  },
  {
   "cell_type": "code",
   "execution_count": null,
   "id": "0bd67c41",
   "metadata": {},
   "outputs": [],
   "source": [
    "# Embed the chunks in batches to avoid memory issues\n",
    "import numpy as np\n",
    "\n",
    "batch_size = 100\n",
    "embeddings = []\n",
    "\n",
    "for i in tqdm(range(0, len(docs), batch_size)):\n",
    "    batch = docs[i:i+batch_size]\n",
    "    batch_embeddings = embedder.embed_text(batch)\n",
    "    embeddings.append(batch_embeddings)\n",
    "\n",
    "embeddings = np.concatenate(embeddings)\n",
    "print(f\"Embeddings shape: {embeddings.shape}\")  # Should be (num_chunks, embedding_dim)"
   ]
  },
  {
   "cell_type": "code",
   "execution_count": null,
   "id": "6664b3de",
   "metadata": {},
   "outputs": [],
   "source": []
  }
 ],
 "metadata": {
  "kernelspec": {
   "display_name": ".venv",
   "language": "python",
   "name": "python3"
  },
  "language_info": {
   "codemirror_mode": {
    "name": "ipython",
    "version": 3
   },
   "file_extension": ".py",
   "mimetype": "text/x-python",
   "name": "python",
   "nbconvert_exporter": "python",
   "pygments_lexer": "ipython3",
   "version": "3.12.3"
  }
 },
 "nbformat": 4,
 "nbformat_minor": 5
}
