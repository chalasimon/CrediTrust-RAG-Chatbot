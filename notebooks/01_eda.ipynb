{
 "cells": [
  {
   "cell_type": "markdown",
   "id": "7e158e8d",
   "metadata": {},
   "source": [
    "# Task 1: Exploratory Data Analysis and Data Preprocessing"
   ]
  },
  {
   "cell_type": "code",
   "execution_count": 1,
   "id": "612db5a0",
   "metadata": {},
   "outputs": [],
   "source": [
    "import sys\n",
    "import os\n",
    "import pandas as pd\n",
    "from glob import glob"
   ]
  },
  {
   "cell_type": "code",
   "execution_count": 2,
   "id": "f2107074",
   "metadata": {},
   "outputs": [],
   "source": [
    "from pathlib import Path\n",
    "from importlib import reload\n",
    "# add the project root to the path\n",
    "project_root = Path(\"..\").resolve()\n",
    "if str(project_root) not in sys.path:\n",
    "    sys.path.insert(0, str(project_root))"
   ]
  },
  {
   "cell_type": "markdown",
   "id": "d68364f2",
   "metadata": {},
   "source": [
    "## Data Loading"
   ]
  },
  {
   "cell_type": "code",
   "execution_count": 3,
   "id": "46a9479c",
   "metadata": {},
   "outputs": [
    {
     "data": {
      "text/plain": [
       "<module 'src.data_loader' from '/home/chalasimon/Documents/10academy/week 6/challenge/CrediTrust-RAG-Chatbot/src/data_loader.py'>"
      ]
     },
     "execution_count": 3,
     "metadata": {},
     "output_type": "execute_result"
    }
   ],
   "source": [
    "# import the module to load the data into dataframes\n",
    "from src.data_loader import DataLoader\n",
    "import src.data_loader\n",
    "reload(src.data_loader)"
   ]
  },
  {
   "cell_type": "code",
   "execution_count": 4,
   "id": "e49d4658",
   "metadata": {},
   "outputs": [
    {
     "name": "stderr",
     "output_type": "stream",
     "text": [
      "/home/chalasimon/Documents/10academy/week 6/challenge/CrediTrust-RAG-Chatbot/src/data_loader.py:20: DtypeWarning: Columns (16) have mixed types. Specify dtype option on import or set low_memory=False.\n",
      "  data = pd.read_csv(self.file_path)\n"
     ]
    }
   ],
   "source": [
    "# Load the dataset\n",
    "data_loader = DataLoader('../data/raw/complaints.csv')\n",
    "df = data_loader.load_data()"
   ]
  },
  {
   "cell_type": "code",
   "execution_count": 5,
   "id": "57c3f50e",
   "metadata": {},
   "outputs": [
    {
     "name": "stdout",
     "output_type": "stream",
     "text": [
      "  Date received                                            Product  \\\n",
      "0    2025-06-20  Credit reporting or other personal consumer re...   \n",
      "1    2025-06-20                                    Debt collection   \n",
      "2    2025-06-20  Credit reporting or other personal consumer re...   \n",
      "3    2025-06-20  Credit reporting or other personal consumer re...   \n",
      "4    2025-06-20  Credit reporting or other personal consumer re...   \n",
      "5    2025-06-20  Credit reporting or other personal consumer re...   \n",
      "6    2025-06-20  Credit reporting or other personal consumer re...   \n",
      "7    2025-06-20  Credit reporting or other personal consumer re...   \n",
      "8    2025-06-20  Credit reporting or other personal consumer re...   \n",
      "9    2025-06-20  Credit reporting or other personal consumer re...   \n",
      "\n",
      "               Sub-product                                 Issue  \\\n",
      "0         Credit reporting  Incorrect information on your report   \n",
      "1  Telecommunications debt     Attempts to collect debt not owed   \n",
      "2         Credit reporting           Improper use of your report   \n",
      "3         Credit reporting           Improper use of your report   \n",
      "4         Credit reporting  Incorrect information on your report   \n",
      "5         Credit reporting  Incorrect information on your report   \n",
      "6         Credit reporting           Improper use of your report   \n",
      "7         Credit reporting           Improper use of your report   \n",
      "8         Credit reporting  Incorrect information on your report   \n",
      "9         Credit reporting  Incorrect information on your report   \n",
      "\n",
      "                                       Sub-issue Consumer complaint narrative  \\\n",
      "0            Information belongs to someone else                          NaN   \n",
      "1                              Debt is not yours                          NaN   \n",
      "2  Reporting company used your report improperly                          NaN   \n",
      "3  Reporting company used your report improperly                          NaN   \n",
      "4                       Account status incorrect                          NaN   \n",
      "5            Information belongs to someone else                          NaN   \n",
      "6  Reporting company used your report improperly                          NaN   \n",
      "7  Reporting company used your report improperly                          NaN   \n",
      "8                  Account information incorrect                          NaN   \n",
      "9                  Account information incorrect                          NaN   \n",
      "\n",
      "                             Company public response  \\\n",
      "0                                                NaN   \n",
      "1  Company can't verify or dispute the facts in t...   \n",
      "2                                                NaN   \n",
      "3                                                NaN   \n",
      "4                                                NaN   \n",
      "5                                                NaN   \n",
      "6                                                NaN   \n",
      "7                                                NaN   \n",
      "8                                                NaN   \n",
      "9                                                NaN   \n",
      "\n",
      "                                        Company State ZIP code Tags  \\\n",
      "0           Experian Information Solutions Inc.    FL    32092  NaN   \n",
      "1  Eastern Account Systems of Connecticut, Inc.    FL    342XX  NaN   \n",
      "2        TRANSUNION INTERMEDIATE HOLDINGS, INC.    AZ    85225  NaN   \n",
      "3           Experian Information Solutions Inc.    AZ    85225  NaN   \n",
      "4           Experian Information Solutions Inc.    IL    60628  NaN   \n",
      "5        TRANSUNION INTERMEDIATE HOLDINGS, INC.    TX    77568  NaN   \n",
      "6           Experian Information Solutions Inc.    NV    89107  NaN   \n",
      "7           Experian Information Solutions Inc.    GA    30058  NaN   \n",
      "8           Experian Information Solutions Inc.    CA    92324  NaN   \n",
      "9        TRANSUNION INTERMEDIATE HOLDINGS, INC.    CA    92324  NaN   \n",
      "\n",
      "  Consumer consent provided? Submitted via Date sent to company  \\\n",
      "0                        NaN           Web           2025-06-20   \n",
      "1                        NaN           Web           2025-06-20   \n",
      "2                        NaN           Web           2025-06-20   \n",
      "3                        NaN           Web           2025-06-20   \n",
      "4                        NaN           Web           2025-06-20   \n",
      "5                        NaN           Web           2025-06-20   \n",
      "6                        NaN           Web           2025-06-20   \n",
      "7                        NaN           Web           2025-06-20   \n",
      "8                        NaN           Web           2025-06-20   \n",
      "9                        NaN           Web           2025-06-20   \n",
      "\n",
      "  Company response to consumer Timely response? Consumer disputed?  \\\n",
      "0                  In progress              Yes                NaN   \n",
      "1      Closed with explanation              Yes                NaN   \n",
      "2                  In progress              Yes                NaN   \n",
      "3                  In progress              Yes                NaN   \n",
      "4                  In progress              Yes                NaN   \n",
      "5                  In progress              Yes                NaN   \n",
      "6                  In progress              Yes                NaN   \n",
      "7                  In progress              Yes                NaN   \n",
      "8                  In progress              Yes                NaN   \n",
      "9                  In progress              Yes                NaN   \n",
      "\n",
      "   Complaint ID  \n",
      "0      14195687  \n",
      "1      14195688  \n",
      "2      14195689  \n",
      "3      14195690  \n",
      "4      14195692  \n",
      "5      14195711  \n",
      "6      14195715  \n",
      "7      14195718  \n",
      "8      14195719  \n",
      "9      14195720  \n"
     ]
    }
   ],
   "source": [
    "# print first 10 rows of the dataset\n",
    "print(df.head(10))"
   ]
  },
  {
   "cell_type": "code",
   "execution_count": 6,
   "id": "1698e18c",
   "metadata": {},
   "outputs": [
    {
     "name": "stdout",
     "output_type": "stream",
     "text": [
      "Shape of the dataframe: (9609797, 18)\n"
     ]
    }
   ],
   "source": [
    "# shape of the dataframe\n",
    "print(\"Shape of the dataframe:\", df.shape)"
   ]
  },
  {
   "cell_type": "markdown",
   "id": "58d6f2fe",
   "metadata": {},
   "source": [
    "## Exploratory Data Analysis (EDA)"
   ]
  },
  {
   "cell_type": "markdown",
   "id": "5023f93c",
   "metadata": {},
   "source": [
    "#### Basic Statistics:"
   ]
  },
  {
   "cell_type": "code",
   "execution_count": 7,
   "id": "4da60ebe",
   "metadata": {},
   "outputs": [
    {
     "name": "stdout",
     "output_type": "stream",
     "text": [
      "<class 'pandas.core.frame.DataFrame'>\n",
      "RangeIndex: 9609797 entries, 0 to 9609796\n",
      "Data columns (total 18 columns):\n",
      " #   Column                        Dtype \n",
      "---  ------                        ----- \n",
      " 0   Date received                 object\n",
      " 1   Product                       object\n",
      " 2   Sub-product                   object\n",
      " 3   Issue                         object\n",
      " 4   Sub-issue                     object\n",
      " 5   Consumer complaint narrative  object\n",
      " 6   Company public response       object\n",
      " 7   Company                       object\n",
      " 8   State                         object\n",
      " 9   ZIP code                      object\n",
      " 10  Tags                          object\n",
      " 11  Consumer consent provided?    object\n",
      " 12  Submitted via                 object\n",
      " 13  Date sent to company          object\n",
      " 14  Company response to consumer  object\n",
      " 15  Timely response?              object\n",
      " 16  Consumer disputed?            object\n",
      " 17  Complaint ID                  int64 \n",
      "dtypes: int64(1), object(17)\n",
      "memory usage: 1.3+ GB\n"
     ]
    },
    {
     "data": {
      "application/vnd.microsoft.datawrangler.viewer.v0+json": {
       "columns": [
        {
         "name": "index",
         "rawType": "object",
         "type": "string"
        },
        {
         "name": "Date received",
         "rawType": "object",
         "type": "unknown"
        },
        {
         "name": "Product",
         "rawType": "object",
         "type": "unknown"
        },
        {
         "name": "Sub-product",
         "rawType": "object",
         "type": "unknown"
        },
        {
         "name": "Issue",
         "rawType": "object",
         "type": "unknown"
        },
        {
         "name": "Sub-issue",
         "rawType": "object",
         "type": "unknown"
        },
        {
         "name": "Consumer complaint narrative",
         "rawType": "object",
         "type": "unknown"
        },
        {
         "name": "Company public response",
         "rawType": "object",
         "type": "unknown"
        },
        {
         "name": "Company",
         "rawType": "object",
         "type": "unknown"
        },
        {
         "name": "State",
         "rawType": "object",
         "type": "unknown"
        },
        {
         "name": "ZIP code",
         "rawType": "object",
         "type": "unknown"
        },
        {
         "name": "Tags",
         "rawType": "object",
         "type": "unknown"
        },
        {
         "name": "Consumer consent provided?",
         "rawType": "object",
         "type": "unknown"
        },
        {
         "name": "Submitted via",
         "rawType": "object",
         "type": "unknown"
        },
        {
         "name": "Date sent to company",
         "rawType": "object",
         "type": "unknown"
        },
        {
         "name": "Company response to consumer",
         "rawType": "object",
         "type": "unknown"
        },
        {
         "name": "Timely response?",
         "rawType": "object",
         "type": "unknown"
        },
        {
         "name": "Consumer disputed?",
         "rawType": "object",
         "type": "unknown"
        },
        {
         "name": "Complaint ID",
         "rawType": "float64",
         "type": "float"
        }
       ],
       "ref": "65970784-bf3b-4ad2-b08c-51b7f788d338",
       "rows": [
        [
         "count",
         "9609797",
         "9609797",
         "9374502",
         "9609791",
         "8770275",
         "2980756",
         "4839590",
         "9609797",
         "9555281",
         "9579569",
         "628768",
         "7960236",
         "9609797",
         "9609797",
         "9609777",
         "9609797",
         "768299",
         "9609797.0"
        ],
        [
         "unique",
         "4952",
         "21",
         "86",
         "178",
         "272",
         "2108758",
         "11",
         "7674",
         "63",
         "34965",
         "3",
         "4",
         "7",
         "4901",
         "8",
         "2",
         "2",
         null
        ],
        [
         "top",
         "2025-01-17",
         "Credit reporting or other personal consumer reports",
         "Credit reporting",
         "Incorrect information on your report",
         "Information belongs to someone else",
         "In accordance with the Fair Credit Reporting act. The List of accounts below has violated my federally protected consumer rights to privacy and confidentiality under 15 USC 1681.\n\n15 U.S.C 1681 section 602 A. States I have the right to privacy.\n\n15 U.S.C 1681 Section 604 A Section 2 : It also states a consumer reporting agency can not furnish a account without my written instructions 15 U.S.C 1681c. ( a ) ( 5 ) Section States : no consumer reporting agency may make any consumer report containing any of the following items of information Any other adverse item of information, other than records of convictions of crimes which antedates the report by more than seven years.\n\n15 U.S.C. 1681s-2 ( A ) ( 1 ) A person shall not furnish any information relating to a consumer to any consumer reporting agency if the person knows or has reasonable cause to believe that the information is inaccurate.",
         "Company has responded to the consumer and the CFPB and chooses not to provide a public response",
         "EQUIFAX, INC.",
         "FL",
         "XXXXX",
         "Servicemember",
         "Consent not provided",
         "Web",
         "2025-02-25",
         "Closed with explanation",
         "Yes",
         "No",
         null
        ],
        [
         "freq",
         "34093",
         "4834855",
         "6955847",
         "3613761",
         "2324057",
         "21622",
         "4537468",
         "2321626",
         "1273171",
         "172807",
         "391563",
         "4639279",
         "9017914",
         "32525",
         "5487712",
         "9535859",
         "619921",
         null
        ],
        [
         "mean",
         null,
         null,
         null,
         null,
         null,
         null,
         null,
         null,
         null,
         null,
         null,
         null,
         null,
         null,
         null,
         null,
         null,
         "8092744.076591108"
        ],
        [
         "std",
         null,
         null,
         null,
         null,
         null,
         null,
         null,
         null,
         null,
         null,
         null,
         null,
         null,
         null,
         null,
         null,
         null,
         "3774841.6147457194"
        ],
        [
         "min",
         null,
         null,
         null,
         null,
         null,
         null,
         null,
         null,
         null,
         null,
         null,
         null,
         null,
         null,
         null,
         null,
         null,
         "1.0"
        ],
        [
         "25%",
         null,
         null,
         null,
         null,
         null,
         null,
         null,
         null,
         null,
         null,
         null,
         null,
         null,
         null,
         null,
         null,
         null,
         "5038016.0"
        ],
        [
         "50%",
         null,
         null,
         null,
         null,
         null,
         null,
         null,
         null,
         null,
         null,
         null,
         null,
         null,
         null,
         null,
         null,
         null,
         "8448508.0"
        ],
        [
         "75%",
         null,
         null,
         null,
         null,
         null,
         null,
         null,
         null,
         null,
         null,
         null,
         null,
         null,
         null,
         null,
         null,
         null,
         "11295914.0"
        ],
        [
         "max",
         null,
         null,
         null,
         null,
         null,
         null,
         null,
         null,
         null,
         null,
         null,
         null,
         null,
         null,
         null,
         null,
         null,
         "14232588.0"
        ]
       ],
       "shape": {
        "columns": 18,
        "rows": 11
       }
      },
      "text/html": [
       "<div>\n",
       "<style scoped>\n",
       "    .dataframe tbody tr th:only-of-type {\n",
       "        vertical-align: middle;\n",
       "    }\n",
       "\n",
       "    .dataframe tbody tr th {\n",
       "        vertical-align: top;\n",
       "    }\n",
       "\n",
       "    .dataframe thead th {\n",
       "        text-align: right;\n",
       "    }\n",
       "</style>\n",
       "<table border=\"1\" class=\"dataframe\">\n",
       "  <thead>\n",
       "    <tr style=\"text-align: right;\">\n",
       "      <th></th>\n",
       "      <th>Date received</th>\n",
       "      <th>Product</th>\n",
       "      <th>Sub-product</th>\n",
       "      <th>Issue</th>\n",
       "      <th>Sub-issue</th>\n",
       "      <th>Consumer complaint narrative</th>\n",
       "      <th>Company public response</th>\n",
       "      <th>Company</th>\n",
       "      <th>State</th>\n",
       "      <th>ZIP code</th>\n",
       "      <th>Tags</th>\n",
       "      <th>Consumer consent provided?</th>\n",
       "      <th>Submitted via</th>\n",
       "      <th>Date sent to company</th>\n",
       "      <th>Company response to consumer</th>\n",
       "      <th>Timely response?</th>\n",
       "      <th>Consumer disputed?</th>\n",
       "      <th>Complaint ID</th>\n",
       "    </tr>\n",
       "  </thead>\n",
       "  <tbody>\n",
       "    <tr>\n",
       "      <th>count</th>\n",
       "      <td>9609797</td>\n",
       "      <td>9609797</td>\n",
       "      <td>9374502</td>\n",
       "      <td>9609791</td>\n",
       "      <td>8770275</td>\n",
       "      <td>2980756</td>\n",
       "      <td>4839590</td>\n",
       "      <td>9609797</td>\n",
       "      <td>9555281</td>\n",
       "      <td>9579569</td>\n",
       "      <td>628768</td>\n",
       "      <td>7960236</td>\n",
       "      <td>9609797</td>\n",
       "      <td>9609797</td>\n",
       "      <td>9609777</td>\n",
       "      <td>9609797</td>\n",
       "      <td>768299</td>\n",
       "      <td>9.609797e+06</td>\n",
       "    </tr>\n",
       "    <tr>\n",
       "      <th>unique</th>\n",
       "      <td>4952</td>\n",
       "      <td>21</td>\n",
       "      <td>86</td>\n",
       "      <td>178</td>\n",
       "      <td>272</td>\n",
       "      <td>2108758</td>\n",
       "      <td>11</td>\n",
       "      <td>7674</td>\n",
       "      <td>63</td>\n",
       "      <td>34965</td>\n",
       "      <td>3</td>\n",
       "      <td>4</td>\n",
       "      <td>7</td>\n",
       "      <td>4901</td>\n",
       "      <td>8</td>\n",
       "      <td>2</td>\n",
       "      <td>2</td>\n",
       "      <td>NaN</td>\n",
       "    </tr>\n",
       "    <tr>\n",
       "      <th>top</th>\n",
       "      <td>2025-01-17</td>\n",
       "      <td>Credit reporting or other personal consumer re...</td>\n",
       "      <td>Credit reporting</td>\n",
       "      <td>Incorrect information on your report</td>\n",
       "      <td>Information belongs to someone else</td>\n",
       "      <td>In accordance with the Fair Credit Reporting a...</td>\n",
       "      <td>Company has responded to the consumer and the ...</td>\n",
       "      <td>EQUIFAX, INC.</td>\n",
       "      <td>FL</td>\n",
       "      <td>XXXXX</td>\n",
       "      <td>Servicemember</td>\n",
       "      <td>Consent not provided</td>\n",
       "      <td>Web</td>\n",
       "      <td>2025-02-25</td>\n",
       "      <td>Closed with explanation</td>\n",
       "      <td>Yes</td>\n",
       "      <td>No</td>\n",
       "      <td>NaN</td>\n",
       "    </tr>\n",
       "    <tr>\n",
       "      <th>freq</th>\n",
       "      <td>34093</td>\n",
       "      <td>4834855</td>\n",
       "      <td>6955847</td>\n",
       "      <td>3613761</td>\n",
       "      <td>2324057</td>\n",
       "      <td>21622</td>\n",
       "      <td>4537468</td>\n",
       "      <td>2321626</td>\n",
       "      <td>1273171</td>\n",
       "      <td>172807</td>\n",
       "      <td>391563</td>\n",
       "      <td>4639279</td>\n",
       "      <td>9017914</td>\n",
       "      <td>32525</td>\n",
       "      <td>5487712</td>\n",
       "      <td>9535859</td>\n",
       "      <td>619921</td>\n",
       "      <td>NaN</td>\n",
       "    </tr>\n",
       "    <tr>\n",
       "      <th>mean</th>\n",
       "      <td>NaN</td>\n",
       "      <td>NaN</td>\n",
       "      <td>NaN</td>\n",
       "      <td>NaN</td>\n",
       "      <td>NaN</td>\n",
       "      <td>NaN</td>\n",
       "      <td>NaN</td>\n",
       "      <td>NaN</td>\n",
       "      <td>NaN</td>\n",
       "      <td>NaN</td>\n",
       "      <td>NaN</td>\n",
       "      <td>NaN</td>\n",
       "      <td>NaN</td>\n",
       "      <td>NaN</td>\n",
       "      <td>NaN</td>\n",
       "      <td>NaN</td>\n",
       "      <td>NaN</td>\n",
       "      <td>8.092744e+06</td>\n",
       "    </tr>\n",
       "    <tr>\n",
       "      <th>std</th>\n",
       "      <td>NaN</td>\n",
       "      <td>NaN</td>\n",
       "      <td>NaN</td>\n",
       "      <td>NaN</td>\n",
       "      <td>NaN</td>\n",
       "      <td>NaN</td>\n",
       "      <td>NaN</td>\n",
       "      <td>NaN</td>\n",
       "      <td>NaN</td>\n",
       "      <td>NaN</td>\n",
       "      <td>NaN</td>\n",
       "      <td>NaN</td>\n",
       "      <td>NaN</td>\n",
       "      <td>NaN</td>\n",
       "      <td>NaN</td>\n",
       "      <td>NaN</td>\n",
       "      <td>NaN</td>\n",
       "      <td>3.774842e+06</td>\n",
       "    </tr>\n",
       "    <tr>\n",
       "      <th>min</th>\n",
       "      <td>NaN</td>\n",
       "      <td>NaN</td>\n",
       "      <td>NaN</td>\n",
       "      <td>NaN</td>\n",
       "      <td>NaN</td>\n",
       "      <td>NaN</td>\n",
       "      <td>NaN</td>\n",
       "      <td>NaN</td>\n",
       "      <td>NaN</td>\n",
       "      <td>NaN</td>\n",
       "      <td>NaN</td>\n",
       "      <td>NaN</td>\n",
       "      <td>NaN</td>\n",
       "      <td>NaN</td>\n",
       "      <td>NaN</td>\n",
       "      <td>NaN</td>\n",
       "      <td>NaN</td>\n",
       "      <td>1.000000e+00</td>\n",
       "    </tr>\n",
       "    <tr>\n",
       "      <th>25%</th>\n",
       "      <td>NaN</td>\n",
       "      <td>NaN</td>\n",
       "      <td>NaN</td>\n",
       "      <td>NaN</td>\n",
       "      <td>NaN</td>\n",
       "      <td>NaN</td>\n",
       "      <td>NaN</td>\n",
       "      <td>NaN</td>\n",
       "      <td>NaN</td>\n",
       "      <td>NaN</td>\n",
       "      <td>NaN</td>\n",
       "      <td>NaN</td>\n",
       "      <td>NaN</td>\n",
       "      <td>NaN</td>\n",
       "      <td>NaN</td>\n",
       "      <td>NaN</td>\n",
       "      <td>NaN</td>\n",
       "      <td>5.038016e+06</td>\n",
       "    </tr>\n",
       "    <tr>\n",
       "      <th>50%</th>\n",
       "      <td>NaN</td>\n",
       "      <td>NaN</td>\n",
       "      <td>NaN</td>\n",
       "      <td>NaN</td>\n",
       "      <td>NaN</td>\n",
       "      <td>NaN</td>\n",
       "      <td>NaN</td>\n",
       "      <td>NaN</td>\n",
       "      <td>NaN</td>\n",
       "      <td>NaN</td>\n",
       "      <td>NaN</td>\n",
       "      <td>NaN</td>\n",
       "      <td>NaN</td>\n",
       "      <td>NaN</td>\n",
       "      <td>NaN</td>\n",
       "      <td>NaN</td>\n",
       "      <td>NaN</td>\n",
       "      <td>8.448508e+06</td>\n",
       "    </tr>\n",
       "    <tr>\n",
       "      <th>75%</th>\n",
       "      <td>NaN</td>\n",
       "      <td>NaN</td>\n",
       "      <td>NaN</td>\n",
       "      <td>NaN</td>\n",
       "      <td>NaN</td>\n",
       "      <td>NaN</td>\n",
       "      <td>NaN</td>\n",
       "      <td>NaN</td>\n",
       "      <td>NaN</td>\n",
       "      <td>NaN</td>\n",
       "      <td>NaN</td>\n",
       "      <td>NaN</td>\n",
       "      <td>NaN</td>\n",
       "      <td>NaN</td>\n",
       "      <td>NaN</td>\n",
       "      <td>NaN</td>\n",
       "      <td>NaN</td>\n",
       "      <td>1.129591e+07</td>\n",
       "    </tr>\n",
       "    <tr>\n",
       "      <th>max</th>\n",
       "      <td>NaN</td>\n",
       "      <td>NaN</td>\n",
       "      <td>NaN</td>\n",
       "      <td>NaN</td>\n",
       "      <td>NaN</td>\n",
       "      <td>NaN</td>\n",
       "      <td>NaN</td>\n",
       "      <td>NaN</td>\n",
       "      <td>NaN</td>\n",
       "      <td>NaN</td>\n",
       "      <td>NaN</td>\n",
       "      <td>NaN</td>\n",
       "      <td>NaN</td>\n",
       "      <td>NaN</td>\n",
       "      <td>NaN</td>\n",
       "      <td>NaN</td>\n",
       "      <td>NaN</td>\n",
       "      <td>1.423259e+07</td>\n",
       "    </tr>\n",
       "  </tbody>\n",
       "</table>\n",
       "</div>"
      ],
      "text/plain": [
       "       Date received                                            Product  \\\n",
       "count        9609797                                            9609797   \n",
       "unique          4952                                                 21   \n",
       "top       2025-01-17  Credit reporting or other personal consumer re...   \n",
       "freq           34093                                            4834855   \n",
       "mean             NaN                                                NaN   \n",
       "std              NaN                                                NaN   \n",
       "min              NaN                                                NaN   \n",
       "25%              NaN                                                NaN   \n",
       "50%              NaN                                                NaN   \n",
       "75%              NaN                                                NaN   \n",
       "max              NaN                                                NaN   \n",
       "\n",
       "             Sub-product                                 Issue  \\\n",
       "count            9374502                               9609791   \n",
       "unique                86                                   178   \n",
       "top     Credit reporting  Incorrect information on your report   \n",
       "freq             6955847                               3613761   \n",
       "mean                 NaN                                   NaN   \n",
       "std                  NaN                                   NaN   \n",
       "min                  NaN                                   NaN   \n",
       "25%                  NaN                                   NaN   \n",
       "50%                  NaN                                   NaN   \n",
       "75%                  NaN                                   NaN   \n",
       "max                  NaN                                   NaN   \n",
       "\n",
       "                                  Sub-issue  \\\n",
       "count                               8770275   \n",
       "unique                                  272   \n",
       "top     Information belongs to someone else   \n",
       "freq                                2324057   \n",
       "mean                                    NaN   \n",
       "std                                     NaN   \n",
       "min                                     NaN   \n",
       "25%                                     NaN   \n",
       "50%                                     NaN   \n",
       "75%                                     NaN   \n",
       "max                                     NaN   \n",
       "\n",
       "                             Consumer complaint narrative  \\\n",
       "count                                             2980756   \n",
       "unique                                            2108758   \n",
       "top     In accordance with the Fair Credit Reporting a...   \n",
       "freq                                                21622   \n",
       "mean                                                  NaN   \n",
       "std                                                   NaN   \n",
       "min                                                   NaN   \n",
       "25%                                                   NaN   \n",
       "50%                                                   NaN   \n",
       "75%                                                   NaN   \n",
       "max                                                   NaN   \n",
       "\n",
       "                                  Company public response        Company  \\\n",
       "count                                             4839590        9609797   \n",
       "unique                                                 11           7674   \n",
       "top     Company has responded to the consumer and the ...  EQUIFAX, INC.   \n",
       "freq                                              4537468        2321626   \n",
       "mean                                                  NaN            NaN   \n",
       "std                                                   NaN            NaN   \n",
       "min                                                   NaN            NaN   \n",
       "25%                                                   NaN            NaN   \n",
       "50%                                                   NaN            NaN   \n",
       "75%                                                   NaN            NaN   \n",
       "max                                                   NaN            NaN   \n",
       "\n",
       "          State ZIP code           Tags Consumer consent provided?  \\\n",
       "count   9555281  9579569         628768                    7960236   \n",
       "unique       63    34965              3                          4   \n",
       "top          FL    XXXXX  Servicemember       Consent not provided   \n",
       "freq    1273171   172807         391563                    4639279   \n",
       "mean        NaN      NaN            NaN                        NaN   \n",
       "std         NaN      NaN            NaN                        NaN   \n",
       "min         NaN      NaN            NaN                        NaN   \n",
       "25%         NaN      NaN            NaN                        NaN   \n",
       "50%         NaN      NaN            NaN                        NaN   \n",
       "75%         NaN      NaN            NaN                        NaN   \n",
       "max         NaN      NaN            NaN                        NaN   \n",
       "\n",
       "       Submitted via Date sent to company Company response to consumer  \\\n",
       "count        9609797              9609797                      9609777   \n",
       "unique             7                 4901                            8   \n",
       "top              Web           2025-02-25      Closed with explanation   \n",
       "freq         9017914                32525                      5487712   \n",
       "mean             NaN                  NaN                          NaN   \n",
       "std              NaN                  NaN                          NaN   \n",
       "min              NaN                  NaN                          NaN   \n",
       "25%              NaN                  NaN                          NaN   \n",
       "50%              NaN                  NaN                          NaN   \n",
       "75%              NaN                  NaN                          NaN   \n",
       "max              NaN                  NaN                          NaN   \n",
       "\n",
       "       Timely response? Consumer disputed?  Complaint ID  \n",
       "count           9609797             768299  9.609797e+06  \n",
       "unique                2                  2           NaN  \n",
       "top                 Yes                 No           NaN  \n",
       "freq            9535859             619921           NaN  \n",
       "mean                NaN                NaN  8.092744e+06  \n",
       "std                 NaN                NaN  3.774842e+06  \n",
       "min                 NaN                NaN  1.000000e+00  \n",
       "25%                 NaN                NaN  5.038016e+06  \n",
       "50%                 NaN                NaN  8.448508e+06  \n",
       "75%                 NaN                NaN  1.129591e+07  \n",
       "max                 NaN                NaN  1.423259e+07  "
      ]
     },
     "execution_count": 7,
     "metadata": {},
     "output_type": "execute_result"
    }
   ],
   "source": [
    "df.info()\n",
    "df.describe(include='all')"
   ]
  },
  {
   "cell_type": "markdown",
   "id": "861f3283",
   "metadata": {},
   "source": [
    "#### Complaint Distribution by Product:"
   ]
  },
  {
   "cell_type": "code",
   "execution_count": 8,
   "id": "f03e5d91",
   "metadata": {},
   "outputs": [
    {
     "name": "stdout",
     "output_type": "stream",
     "text": [
      "Complaint Distribution by Product:\n",
      "Product\n",
      "Credit reporting or other personal consumer reports                             4834855\n",
      "Credit reporting, credit repair services, or other personal consumer reports    2163857\n",
      "Debt collection                                                                  799197\n",
      "Mortgage                                                                         422254\n",
      "Checking or savings account                                                      291178\n",
      "Credit card                                                                      226686\n",
      "Credit card or prepaid card                                                      206369\n",
      "Money transfer, virtual currency, or money service                               145066\n",
      "Credit reporting                                                                 140429\n",
      "Student loan                                                                     109717\n",
      "Bank account or service                                                           86205\n",
      "Vehicle loan or lease                                                             72957\n",
      "Consumer Loan                                                                     31574\n",
      "Payday loan, title loan, or personal loan                                         30641\n",
      "Payday loan, title loan, personal loan, or advance loan                           16514\n",
      "Prepaid card                                                                      15280\n",
      "Payday loan                                                                        5541\n",
      "Money transfers                                                                    5354\n",
      "Debt or credit management                                                          5047\n",
      "Other financial service                                                            1058\n",
      "Virtual currency                                                                     18\n",
      "Name: count, dtype: int64\n"
     ]
    }
   ],
   "source": [
    "# complaint distribution by product\n",
    "product_counts = df['Product'].value_counts()\n",
    "print(\"Complaint Distribution by Product:\")\n",
    "print(product_counts)"
   ]
  },
  {
   "cell_type": "code",
   "execution_count": 9,
   "id": "9cc39550",
   "metadata": {},
   "outputs": [
    {
     "data": {
      "image/png": "[encoded data removed]",
      "text/plain": [
       "<Figure size 1000x600 with 1 Axes>"
      ]
     },
     "metadata": {},
     "output_type": "display_data"
    }
   ],
   "source": [
    "# Plotting the complaint distribution by product\n",
    "import matplotlib.pyplot as plt\n",
    "plt.figure(figsize=(10, 6))\n",
    "product_counts.plot(kind='bar')\n",
    "plt.title('Complaints by Product')\n",
    "plt.savefig('../docs/screenshots/product_distribution.png')"
   ]
  },
  {
   "cell_type": "markdown",
   "id": "6096a7ba",
   "metadata": {},
   "source": [
    "#### Narrative analysis:"
   ]
  },
  {
   "cell_type": "code",
   "execution_count": 10,
   "id": "20356ecd",
   "metadata": {},
   "outputs": [
    {
     "name": "stderr",
     "output_type": "stream",
     "text": [
      "100%|██████████| 9609797/9609797 [00:42<00:00, 224407.61it/s]\n"
     ]
    },
    {
     "name": "stdout",
     "output_type": "stream",
     "text": [
      "count    9.609797e+06\n",
      "mean     5.446667e+01\n",
      "std      1.497672e+02\n",
      "min      0.000000e+00\n",
      "25%      0.000000e+00\n",
      "50%      0.000000e+00\n",
      "75%      5.000000e+01\n",
      "max      6.469000e+03\n",
      "Name: narrative_length, dtype: float64\n"
     ]
    }
   ],
   "source": [
    "# Narrative Analysis\n",
    "from tqdm import tqdm\n",
    "tqdm.pandas()\n",
    "\n",
    "# Faster alternative to str.split().str.len()\n",
    "df['narrative_length'] = df['Consumer complaint narrative'].progress_apply(\n",
    "    lambda x: len(x.split()) if isinstance(x, str) else 0\n",
    ")\n",
    "print(df['narrative_length'].describe())"
   ]
  },
  {
   "cell_type": "code",
   "execution_count": 11,
   "id": "3d9d8465",
   "metadata": {},
   "outputs": [
    {
     "name": "stdout",
     "output_type": "stream",
     "text": [
      "Number of short narratives (less than 5 words): 6632216\n",
      "Number of long narratives (more than 1000 words): 32428\n"
     ]
    }
   ],
   "source": [
    "# Identify very short or very long narratives (example thresholds)\n",
    "short_narratives = df[df['narrative_length'] < 5]\n",
    "long_narratives = df[df['narrative_length'] > 1000]\n",
    "print(\"Number of short narratives (less than 5 words):\", len(short_narratives))\n",
    "print(\"Number of long narratives (more than 1000 words):\", len(long_narratives))"
   ]
  },
  {
   "cell_type": "code",
   "execution_count": 12,
   "id": "aa8d1fbb",
   "metadata": {},
   "outputs": [
    {
     "data": {
      "image/png": "[encoded data removed]",
      "text/plain": [
       "<Figure size 1000x600 with 1 Axes>"
      ]
     },
     "metadata": {},
     "output_type": "display_data"
    }
   ],
   "source": [
    "# plotting Distribution of Complaint Lengths\n",
    "import seaborn as sns\n",
    "sns.set(style=\"whitegrid\")\n",
    "plt.figure(figsize=(10,6))\n",
    "sns.histplot(df['narrative_length'].dropna(), bins=50)\n",
    "plt.title('Distribution of Complaint Lengths (Words)')\n",
    "plt.savefig('../docs/screenshots/narrative_length_dist.png')\n",
    "plt.show()"
   ]
  },
  {
   "cell_type": "code",
   "execution_count": 13,
   "id": "dacb0f4d",
   "metadata": {},
   "outputs": [
    {
     "name": "stdout",
     "output_type": "stream",
     "text": [
      "\n",
      "=== Missing Data ===\n",
      "Missing narratives: 6629041\n"
     ]
    }
   ],
   "source": [
    "print(\"\\n=== Missing Data ===\")\n",
    "print(f\"Missing narratives: {df['Consumer complaint narrative'].isna().sum()}\")"
   ]
  },
  {
   "cell_type": "code",
   "execution_count": 14,
   "id": "d44be9df",
   "metadata": {},
   "outputs": [],
   "source": [
    "from src.preprocessing import cleaner, filter"
   ]
  },
  {
   "cell_type": "code",
   "execution_count": 15,
   "id": "60cf0003",
   "metadata": {},
   "outputs": [],
   "source": [
    "df_filtered = filter.filter_data(df)"
   ]
  },
  {
   "cell_type": "code",
   "execution_count": 16,
   "id": "c194d1ae",
   "metadata": {},
   "outputs": [],
   "source": [
    "# Clean text\n",
    "df_filtered['clean_text'] = df_filtered['Consumer complaint narrative'].apply(cleaner.clean_text)"
   ]
  },
  {
   "cell_type": "code",
   "execution_count": 17,
   "id": "fead2b24",
   "metadata": {},
   "outputs": [],
   "source": [
    "output_path=\"../data/processed/filtered_complaints.csv\""
   ]
  },
  {
   "cell_type": "code",
   "execution_count": 18,
   "id": "5282a88b",
   "metadata": {},
   "outputs": [
    {
     "name": "stdout",
     "output_type": "stream",
     "text": [
      "Processed data saved to ../data/processed/filtered_complaints.csv\n"
     ]
    }
   ],
   "source": [
    "# Save processed data\n",
    "df.to_csv(output_path, index=False)\n",
    "print(f\"Processed data saved to {output_path}\")"
   ]
  },
  {
   "cell_type": "markdown",
   "id": "4576eaf0",
   "metadata": {},
   "source": [
    "### cleaned and filtered data details"
   ]
  },
  {
   "cell_type": "code",
   "execution_count": 19,
   "id": "55d75f7a",
   "metadata": {},
   "outputs": [
    {
     "name": "stdout",
     "output_type": "stream",
     "text": [
      "\n",
      "=== Cleaned and Filtered Data Details ===\n",
      "Number of complaints before filtering: 9609797\n",
      "Number of complaints after filtering: 478818\n",
      "Number of complaints after filtering: 478,818\n",
      "Number of unique mapped products: 5\n",
      "\n"
     ]
    }
   ],
   "source": [
    "# cleaned and filtered data details\n",
    "print(\"\\n=== Cleaned and Filtered Data Details ===\")\n",
    "print(f\"Number of complaints before filtering: {df.shape[0]}\")\n",
    "print(f\"Number of complaints after filtering: {df_filtered.shape[0]}\")\n",
    "print(f\"Number of complaints after filtering: {len(df_filtered):,}\")\n",
    "print(f\"Number of unique mapped products: {df_filtered['MappedProduct'].nunique()}\\n\")\n"
   ]
  },
  {
   "cell_type": "code",
   "execution_count": 20,
   "id": "ffceb763",
   "metadata": {},
   "outputs": [
    {
     "name": "stdout",
     "output_type": "stream",
     "text": [
      "=== Complaint Counts per Product ===\n",
      "MappedProduct\n",
      "Saving account        155204\n",
      "Buy now, pay later    118128\n",
      "Money transfers        98685\n",
      "Credit card            80667\n",
      "Personal loan          26134\n",
      "Name: count, dtype: int64\n",
      "\n",
      "\n"
     ]
    }
   ],
   "source": [
    "\n",
    "# === Product distribution ===\n",
    "print(\"=== Complaint Counts per Product ===\")\n",
    "product_counts = df_filtered['MappedProduct'].value_counts()\n",
    "print(product_counts)\n",
    "print(\"\\n\")"
   ]
  },
  {
   "cell_type": "code",
   "execution_count": 21,
   "id": "d0cfacd7",
   "metadata": {},
   "outputs": [
    {
     "name": "stdout",
     "output_type": "stream",
     "text": [
      "=== Narrative Statistics ===\n",
      "count    478818.000000\n",
      "mean        202.530893\n",
      "std         220.960133\n",
      "min           1.000000\n",
      "25%          82.000000\n",
      "50%         136.000000\n",
      "75%         252.000000\n",
      "max        6469.000000\n",
      "Name: word_count, dtype: float64\n",
      "\n",
      "\n",
      "Short narratives (<5 words): 275\n",
      "Long narratives (>1000 words): 5,110\n",
      "Missing narratives: 0\n"
     ]
    }
   ],
   "source": [
    "# === Narrative analysis ===\n",
    "df_filtered['word_count'] = df_filtered['clean_text'].fillna(\"\").apply(lambda x: len(str(x).split()))\n",
    "\n",
    "print(\"=== Narrative Statistics ===\")\n",
    "print(df_filtered['word_count'].describe())\n",
    "print(\"\\n\")\n",
    "\n",
    "# Short / Long / Missing narratives\n",
    "short_count = (df_filtered['word_count'] < 5).sum()\n",
    "long_count = (df_filtered['word_count'] > 1000).sum()\n",
    "missing_count = df_filtered['clean_text'].isna().sum()\n",
    "\n",
    "print(f\"Short narratives (<5 words): {short_count:,}\")\n",
    "print(f\"Long narratives (>1000 words): {long_count:,}\")\n",
    "print(f\"Missing narratives: {missing_count:,}\")"
   ]
  }
 ],
 "metadata": {
  "kernelspec": {
   "display_name": ".venv",
   "language": "python",
   "name": "python3"
  },
  "language_info": {
   "codemirror_mode": {
    "name": "ipython",
    "version": 3
   },
   "file_extension": ".py",
   "mimetype": "text/x-python",
   "name": "python",
   "nbconvert_exporter": "python",
   "pygments_lexer": "ipython3",
   "version": "3.12.3"
  }
 },
 "nbformat": 4,
 "nbformat_minor": 5
}
